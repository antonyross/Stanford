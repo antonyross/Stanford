{
 "cells": [
  {
   "cell_type": "code",
   "execution_count": null,
   "metadata": {},
   "outputs": [],
   "source": [
    "import tensorflow as tf\n",
    "from tensorflow import keras\n",
    "import os"
   ]
  },
  {
   "cell_type": "markdown",
   "metadata": {},
   "source": [
    "# TensorFlow CNN - Lab"
   ]
  },
  {
   "cell_type": "markdown",
   "metadata": {},
   "source": [
    "This Lab will use the \"rock_paper_scissors\" data. These are images of individuals displaying either a rock, paper or scissors hand gesture. There are 2520 training images (840 each), and 372 test images (124 each). Each is a 300 x 300 rgb image. There are also 33 additional images (in for_predictions folder) to do further validations. "
   ]
  },
  {
   "cell_type": "markdown",
   "metadata": {},
   "source": [
    "### Create a CNN"
   ]
  },
  {
   "cell_type": "code",
   "execution_count": null,
   "metadata": {},
   "outputs": [],
   "source": [
    "model = tf.keras.models.Sequential([\n",
    "\n",
    "    \n",
    "    ])\n",
    "\n",
    "\n",
    "model.compile(optimizer='adam', loss='sparse_categorical_crossentropy', metrics=['accuracy'])"
   ]
  },
  {
   "cell_type": "markdown",
   "metadata": {},
   "source": [
    "### Display a summary of the model"
   ]
  },
  {
   "cell_type": "code",
   "execution_count": null,
   "metadata": {},
   "outputs": [],
   "source": []
  },
  {
   "cell_type": "markdown",
   "metadata": {},
   "source": [
    "### Normalize the data and generate labels for the images"
   ]
  },
  {
   "cell_type": "code",
   "execution_count": null,
   "metadata": {},
   "outputs": [],
   "source": [
    "from tensorflow.keras.preprocessing.image import ImageDataGenerator\n",
    "\n",
    "# All images will be rescaled by 1./255\n",
    "train_data_generator = \n",
    "validate_data_generator = \n",
    "\n",
    "# Flow training images in batches of 200 using train_data_generator\n",
    "train_generator = train_data_generator.flow_from_directory(\n",
    "    \n",
    "\n",
    ")\n",
    "\n",
    "\n",
    "# Flow validating images in batches of 100 using validate_data_generator\n",
    "validate_generator = validate_data_generator.flow_from_directory(\n",
    "\n",
    "\n",
    ")"
   ]
  },
  {
   "cell_type": "markdown",
   "metadata": {},
   "source": [
    "### Train the CNN (using the generated labels)\n",
    "Fill in the steps for the training and validation generators. "
   ]
  },
  {
   "cell_type": "code",
   "execution_count": null,
   "metadata": {},
   "outputs": [],
   "source": [
    "# fit the model using the generated labels\n",
    "\n",
    "history = model.fit_generator(\n",
    "      train_generator,\n",
    "      steps_per_epoch= ,     # the ceiling of: total_number_of_images/batch_size\n",
    "                             # int(np.ceil(train_generator.n / float(batch_size)))\n",
    "      epochs=5,\n",
    "    \n",
    "      validation_data = validate_generator,\n",
    "      validation_steps= ,\n",
    "      verbose=1)"
   ]
  },
  {
   "cell_type": "markdown",
   "metadata": {},
   "source": [
    "### Manually validate the model \n",
    "Just fill in the tuple for target_size on line 13"
   ]
  },
  {
   "cell_type": "code",
   "execution_count": null,
   "metadata": {},
   "outputs": [],
   "source": [
    "import numpy as np\n",
    "from keras .preprocessing import image\n",
    "\n",
    "\n",
    "class_labels = ['paper', 'rock', 'scissors']\n",
    "\n",
    "# a list of images (from a directory/folder) that will be used to validate the model's predictions\n",
    "validating_images = os.listdir(\"rock_paper_scissors/for_predictions\")\n",
    "\n",
    "# predicting images from a folder containing a set of unseen images\n",
    "for file_name in validating_images:\n",
    "    path = 'rock_paper_scissors/for_predictions/' + file_name\n",
    "    img = image.load_img(path, target_size = (,))   # <--------- fill in the tuple for target_size\n",
    "    x = image.img_to_array(img)\n",
    "    x = np.expand_dims(x, axis = 0)\n",
    "    images = np.vstack([x])\n",
    "    \n",
    "    prediction = model.predict(images)\n",
    "    \n",
    "    out = prediction[0]\n",
    "    print(file_name, \": \", class_labels[out.argmax()])\n"
   ]
  }
 ],
 "metadata": {
  "kernelspec": {
   "display_name": "Python 3",
   "language": "python",
   "name": "python3"
  },
  "language_info": {
   "codemirror_mode": {
    "name": "ipython",
    "version": 3
   },
   "file_extension": ".py",
   "mimetype": "text/x-python",
   "name": "python",
   "nbconvert_exporter": "python",
   "pygments_lexer": "ipython3",
   "version": "3.7.1"
  }
 },
 "nbformat": 4,
 "nbformat_minor": 2
}
