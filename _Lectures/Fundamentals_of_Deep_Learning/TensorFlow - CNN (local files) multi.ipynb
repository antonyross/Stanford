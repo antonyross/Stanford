{
 "cells": [
  {
   "cell_type": "code",
   "execution_count": null,
   "metadata": {},
   "outputs": [],
   "source": [
    "import tensorflow as tf\n",
    "from tensorflow import keras"
   ]
  },
  {
   "cell_type": "markdown",
   "metadata": {},
   "source": [
    "# Creating a Convolutional Neural Network"
   ]
  },
  {
   "cell_type": "markdown",
   "metadata": {},
   "source": [
    "### Access images located in a local directory"
   ]
  },
  {
   "cell_type": "code",
   "execution_count": null,
   "metadata": {},
   "outputs": [],
   "source": [
    "# the os library gives you  access to the file system\n",
    "import os\n",
    "\n",
    "# listdir returns a list of the files in the directory; len() returns the number of files/items in the list\n",
    "# display the number of images in the various folders\n",
    "\n",
    "# 240 training images\n",
    "print(\"The number of train apple images: \", len(os.listdir(\"fruit/train_multi/apple\")))\n",
    "print(\"The number of train banana images: \", len(os.listdir(\"fruit/train_multi/banana\")))\n",
    "print(\"The number of train mixed images: \", len(os.listdir(\"fruit/train_multi/mixed\")))\n",
    "print(\"The number of train orange images: \", len(os.listdir(\"fruit/train_multi/orange\")))\n",
    "\n",
    "# 60 test images\n",
    "print(\"The number of test apple images: \", len(os.listdir(\"fruit/test_multi/apple\")))\n",
    "print(\"The number of test banana images: \", len(os.listdir(\"fruit/test_multi/banana\")))\n",
    "print(\"The number of test mixed images: \", len(os.listdir(\"fruit/test_multi/mixed\")))\n",
    "print(\"The number of test orange images: \", len(os.listdir(\"fruit/test_multi/orange\")))"
   ]
  },
  {
   "cell_type": "markdown",
   "metadata": {},
   "source": [
    "### Create a CNN"
   ]
  },
  {
   "cell_type": "code",
   "execution_count": null,
   "metadata": {},
   "outputs": [],
   "source": [
    "model = tf.keras.models.Sequential([\n",
    "    # This is the first convolution\n",
    "    tf.keras.layers.Conv2D(16, (3,3), padding='same', activation='relu', input_shape=(150, 150, 3)),\n",
    "    tf.keras.layers.MaxPooling2D(2, 2),\n",
    "    # The second convolution\n",
    "    tf.keras.layers.Conv2D(32, (3,3), padding='same', activation='relu'),\n",
    "    tf.keras.layers.MaxPooling2D(2,2),\n",
    "    # The third convolution\n",
    "    tf.keras.layers.Conv2D(64, (3,3), padding='same', activation='relu'),\n",
    "    tf.keras.layers.MaxPooling2D(2,2),\n",
    "    # The fourth convolution\n",
    "    tf.keras.layers.Conv2D(64, (3,3), padding='same', activation='relu'),\n",
    "    tf.keras.layers.MaxPooling2D(2,2),\n",
    "    # The fifth convolution\n",
    "    tf.keras.layers.Conv2D(64, (3,3), padding='same', activation='relu'),\n",
    "    tf.keras.layers.MaxPooling2D(2,2),\n",
    "    # Flatten the results to feed into a DNN\n",
    "    tf.keras.layers.Flatten(),\n",
    "    # 512 neuron hidden layer\n",
    "    tf.keras.layers.Dense(512, activation='relu'),\n",
    "    # 4 output neurons for multi-class output requires 'softmax' and will sum to 1. Each node will output its class' probability.\n",
    "    tf.keras.layers.Dense(4, activation='softmax')\n",
    "    ])\n",
    "\n",
    "\n",
    "model.compile(optimizer='adam', loss='sparse_categorical_crossentropy', metrics=['accuracy'])"
   ]
  },
  {
   "cell_type": "code",
   "execution_count": null,
   "metadata": {},
   "outputs": [],
   "source": [
    "model.summary()"
   ]
  },
  {
   "cell_type": "markdown",
   "metadata": {},
   "source": [
    "### Normalize the data and generate labels for the images"
   ]
  },
  {
   "cell_type": "code",
   "execution_count": null,
   "metadata": {},
   "outputs": [],
   "source": [
    "from tensorflow.keras.preprocessing.image import ImageDataGenerator\n",
    "\n",
    "# All images will be rescaled by 1./255\n",
    "train_data_generator = ImageDataGenerator(rescale=1/255)\n",
    "validate_data_generator = ImageDataGenerator(rescale=1/255)\n",
    "\n",
    "# Flow training images in batches of 60 using train_data_generator\n",
    "train_generator = train_data_generator.flow_from_directory(\n",
    "        'fruit/train_multi',  # This is the source directory for training images \n",
    "                            # that contains subdirectories(whose names will be the labels) that contain images\n",
    "        target_size=(150, 150),  # All images will be resized to 150x150\n",
    "        batch_size=60,\n",
    "        # Since we use 'sparse_categorical_crossentropy' loss, we need sparse classes\n",
    "        class_mode='sparse')\n",
    "\n",
    "validate_generator = validate_data_generator.flow_from_directory(\n",
    "        'fruit/test_multi',  # This is the source directory for training images \n",
    "                            # that contains subdirectories(whose names will be the labels) that contain images\n",
    "        target_size=(150, 150),  # All images will be resized to 150x150\n",
    "        batch_size=15,\n",
    "        # Since we use 'sparse_categorical_crossentropy' loss, we need sparse classes\n",
    "        class_mode='sparse')"
   ]
  },
  {
   "cell_type": "code",
   "execution_count": null,
   "metadata": {},
   "outputs": [],
   "source": [
    "\n",
    "# Image Augmentation example\n",
    "\n",
    "# Sometimes, depending upon the classfication problem and the images, \n",
    "# performing image augmentation can be helpful to provide variety for the model\n",
    "# through random rotations, shifts, flips and zooms of the images.\n",
    "\n",
    "# train_data_generator = ImageDataGenerator(\n",
    "#                     rescale=1./255, \n",
    "#                     rotation_range=45, \n",
    "#                     width_shift_range=.15, \n",
    "#                     height_shift_range=.15, \n",
    "#                     horizontal_flip=True, \n",
    "#                     zoom_range=0.5\n",
    "#                    )\n"
   ]
  },
  {
   "cell_type": "markdown",
   "metadata": {},
   "source": [
    "### Train the CNN (using the generated labels)"
   ]
  },
  {
   "cell_type": "code",
   "execution_count": null,
   "metadata": {},
   "outputs": [],
   "source": [
    "# fit the model using the generated labels\n",
    "\n",
    "history = model.fit_generator(\n",
    "      train_generator,\n",
    "      steps_per_epoch=4,     # the ceiling of: total_number_of_images/batch_size\n",
    "                             # int(np.ceil(train_generator.n / float(batch_size)))\n",
    "      epochs=15,\n",
    "    \n",
    "      validation_data = validate_generator,\n",
    "      validation_steps=4,\n",
    "      verbose=1)"
   ]
  },
  {
   "cell_type": "markdown",
   "metadata": {},
   "source": [
    "### Manual Validation"
   ]
  },
  {
   "cell_type": "code",
   "execution_count": null,
   "metadata": {},
   "outputs": [],
   "source": [
    "import numpy as np\n",
    "from keras .preprocessing import image\n",
    "\n",
    "\n",
    "class_labels = ['apple', 'banana', 'mixed', 'orange']\n",
    "\n",
    "# a list of images (from a directory/folder) that will be used to validate the model's predictions\n",
    "validating_images = os.listdir(\"fruit/validating_multi_images\")\n",
    "\n",
    "# predicting images from a folder containing a set of unseen images\n",
    "for file_name in validating_images:\n",
    "    path = 'fruit/validating_multi_images/' + file_name\n",
    "    img = image.load_img(path, target_size = (150,150))\n",
    "    x = image.img_to_array(img)\n",
    "    x = np.expand_dims(x, axis = 0)\n",
    "    images = np.vstack([x])\n",
    "    \n",
    "    prediction = model.predict(images)\n",
    "    \n",
    "    out = prediction[0]\n",
    "    print(file_name, \": \", class_labels[out.argmax()])\n"
   ]
  }
 ],
 "metadata": {
  "kernelspec": {
   "display_name": "Python 3",
   "language": "python",
   "name": "python3"
  },
  "language_info": {
   "codemirror_mode": {
    "name": "ipython",
    "version": 3
   },
   "file_extension": ".py",
   "mimetype": "text/x-python",
   "name": "python",
   "nbconvert_exporter": "python",
   "pygments_lexer": "ipython3",
   "version": "3.7.1"
  }
 },
 "nbformat": 4,
 "nbformat_minor": 2
}
