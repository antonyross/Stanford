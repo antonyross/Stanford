{
 "cells": [
  {
   "cell_type": "markdown",
   "metadata": {},
   "source": [
    "# Matplotlib Intro"
   ]
  },
  {
   "cell_type": "code",
   "execution_count": null,
   "metadata": {},
   "outputs": [],
   "source": [
    "import numpy as np\n",
    "import pandas as pd\n",
    "import matplotlib.pyplot as plt\n",
    "%matplotlib inline\n",
    "plt.style.use('seaborn-whitegrid')\n",
    "#plt.style.use('seaborn-white')"
   ]
  },
  {
   "cell_type": "markdown",
   "metadata": {},
   "source": [
    "### Figures and Axes"
   ]
  },
  {
   "cell_type": "code",
   "execution_count": null,
   "metadata": {},
   "outputs": [],
   "source": [
    "fig, ax = plt.subplots()   # object oriented"
   ]
  },
  {
   "cell_type": "code",
   "execution_count": null,
   "metadata": {},
   "outputs": [],
   "source": [
    "# figures and plots acan be created individually \n",
    "fig = plt.figure()\n",
    "ax = plt.axes()"
   ]
  },
  {
   "cell_type": "markdown",
   "metadata": {},
   "source": [
    "### Line Plots"
   ]
  },
  {
   "cell_type": "code",
   "execution_count": null,
   "metadata": {},
   "outputs": [],
   "source": [
    "x = np.linspace(0, 10, 100)\n",
    "y1, y2 = np.cos(x), np.sin(x)\n",
    "fig, ax = plt.subplots()\n",
    "ax.plot(x, y1)\n",
    "ax.plot(x, y2)\n",
    "plt.show()"
   ]
  },
  {
   "cell_type": "code",
   "execution_count": null,
   "metadata": {},
   "outputs": [],
   "source": [
    "fig, axes = plt.subplots(2)\n",
    "\n",
    "\n",
    "axes[0].plot(x, y1)\n",
    "axes[1].plot(x, y2)\n",
    "plt.show()\n"
   ]
  },
  {
   "cell_type": "code",
   "execution_count": null,
   "metadata": {},
   "outputs": [],
   "source": [
    "fig, axes = plt.subplots(1,2, figsize=(22,4))\n",
    "\n",
    "\n",
    "axes[0].plot(x, y1)\n",
    "axes[1].plot(x, y2)\n",
    "plt.show()\n"
   ]
  },
  {
   "cell_type": "code",
   "execution_count": null,
   "metadata": {},
   "outputs": [],
   "source": [
    "fig, ax = plt.subplots()\n",
    "ax.plot(x, y1)\n",
    "\n",
    "# more flexible way of setting properties\n",
    "ax.set_title(\"A New Plot\")\n",
    "ax.set_ylabel(\"Y Label\")\n",
    "ax.set_xlabel(\"X Label\")\n",
    "ax.set_ylim(-2,2)\n",
    "ax.set_xlim(0,10)\n",
    "\n",
    "plt.show()\n"
   ]
  },
  {
   "cell_type": "code",
   "execution_count": null,
   "metadata": {},
   "outputs": [],
   "source": [
    "fig, ax = plt.subplots()\n",
    "ax.plot(x, y1)\n",
    "\n",
    "# more convenient way of setting properties\n",
    "ax.set(title=\"A New Plot\", ylabel=\"Y Label\", xlabel=\"X Label\", ylim=(-1,1), xlim=(0,15))\n",
    "\n",
    "plt.show()"
   ]
  },
  {
   "cell_type": "markdown",
   "metadata": {},
   "source": [
    "### Scatter Plots"
   ]
  },
  {
   "cell_type": "code",
   "execution_count": null,
   "metadata": {},
   "outputs": [],
   "source": [
    "x = np.random.rand(30)\n",
    "y = np.random.rand(30)\n",
    "\n",
    "plt.scatter(x,y, marker='o', color = 'red', s = 400, alpha=.4)\n",
    "plt.show()"
   ]
  },
  {
   "cell_type": "code",
   "execution_count": null,
   "metadata": {},
   "outputs": [],
   "source": [
    "# get iris_data\n",
    "iris_data = pd.read_csv(\"iris.csv\", names = [\"sepal_l\", \"sepal_w\", \"petal_l\", \"petal_w\", \"class\"])\n",
    "\n",
    "# Transform categorical 'class' to integers\n",
    "iris_data['class'] = iris_data['class'].map({\"Iris-setosa\":0, 'Iris-versicolor':1, 'Iris-virginica': 2})\n",
    "\n",
    "plt.scatter(iris_data['sepal_l'], iris_data['sepal_w'], alpha=0.3,\n",
    "            s=300, c=iris_data['class'], cmap='viridis')\n",
    "\n",
    "plt.xlabel('sepal_l')\n",
    "plt.ylabel(\"sepal_w\")\n",
    "plt.show()"
   ]
  },
  {
   "cell_type": "code",
   "execution_count": null,
   "metadata": {},
   "outputs": [],
   "source": [
    "fig, ax = plt.subplots()\n",
    "ax.scatter(iris_data['sepal_l'], iris_data['sepal_w'], alpha=.3,\n",
    "           s = 200, c = iris_data[\"class\"],  cmap='viridis')\n",
    "\n",
    "# more convenient way of setting properties\n",
    "ax.set(title=\"Iris Data\", xlabel='sepal_l', ylabel=\"sepal_w\")\n",
    "\n",
    "plt.show()"
   ]
  },
  {
   "cell_type": "code",
   "execution_count": null,
   "metadata": {},
   "outputs": [],
   "source": [
    "fig, ax = plt.subplots()\n",
    "ax.scatter(iris_data.loc[:49, 'sepal_l'], iris_data.loc[:49,'sepal_w'], s = 200, \n",
    "           c = 'r', alpha=.3, label='Iris-setosa')\n",
    "ax.scatter(iris_data.loc[49:99, 'sepal_l'], iris_data.loc[49:99,'sepal_w'], s = 300, \n",
    "           c = 'blue', alpha=.3, label='Iris-versicolor')\n",
    "ax.scatter(iris_data.loc[99:, 'sepal_l'], iris_data.loc[99:,'sepal_w'], s = 400, \n",
    "           c = 'green', alpha=.3, label='Iris-virginica')\n",
    "\n",
    "\"\"\"\n",
    "The basic built-in colors:\n",
    "b: blue\n",
    "g: green\n",
    "r: red\n",
    "c: cyan\n",
    "m: magenta\n",
    "y: yellow\n",
    "k: black\n",
    "w: white\n",
    "\"\"\"\n",
    "\n",
    "# more convenient way of setting properties\n",
    "ax.set(title=\"Iris Data\", xlabel='sepal_l', ylabel=\"petal_l\")\n",
    "ax.legend()\n",
    "\n",
    "plt.show()"
   ]
  },
  {
   "cell_type": "markdown",
   "metadata": {},
   "source": [
    "### Histogram"
   ]
  },
  {
   "cell_type": "code",
   "execution_count": null,
   "metadata": {},
   "outputs": [],
   "source": [
    "fig, ax = plt.subplots()\n",
    "ax.hist(iris_data['sepal_l'], color = 'xkcd:lilac', edgecolor='black')\n",
    "plt.show()\n"
   ]
  },
  {
   "cell_type": "code",
   "execution_count": null,
   "metadata": {},
   "outputs": [],
   "source": [
    "fig, ax = plt.subplots()\n",
    "ax.hist(iris_data['sepal_l'], alpha=.3, edgecolor='black')\n",
    "ax.hist(iris_data['sepal_w'], alpha=.3, edgecolor='black')\n",
    "ax.hist(iris_data['petal_w'], alpha=.3, edgecolor='black')\n",
    "ax.legend()\n",
    "plt.show()"
   ]
  },
  {
   "cell_type": "markdown",
   "metadata": {},
   "source": [
    "### Pair Plot"
   ]
  },
  {
   "cell_type": "code",
   "execution_count": null,
   "metadata": {},
   "outputs": [],
   "source": [
    "features = [\"sepal_l\", \"sepal_w\", \"petal_l\", \"petal_w\"]\n",
    "pair_plot = pd.plotting.scatter_matrix(iris_data[features], figsize=(12, 8))"
   ]
  },
  {
   "cell_type": "code",
   "execution_count": null,
   "metadata": {},
   "outputs": [],
   "source": [
    "import seaborn as sns\n",
    "\n",
    "pair_plot = sns.pairplot(iris_data, hue='class')"
   ]
  },
  {
   "cell_type": "code",
   "execution_count": null,
   "metadata": {},
   "outputs": [],
   "source": [
    "# Any variable/feature that displays as a number will be output to the pairplot,\n",
    "# so transform the \"class\" variable from integers to categorical strings so that it isn't displayed.\n",
    "iris_data['class'] = iris_data['class'].map({0:\"Iris-setosa\", 1:'Iris-versicolor', 2:'Iris-virginica'})\n",
    "pair_plot = sns.pairplot(iris_data, hue='class')"
   ]
  }
 ],
 "metadata": {
  "kernelspec": {
   "display_name": "Python 3",
   "language": "python",
   "name": "python3"
  },
  "language_info": {
   "codemirror_mode": {
    "name": "ipython",
    "version": 3
   },
   "file_extension": ".py",
   "mimetype": "text/x-python",
   "name": "python",
   "nbconvert_exporter": "python",
   "pygments_lexer": "ipython3",
   "version": "3.7.1"
  }
 },
 "nbformat": 4,
 "nbformat_minor": 2
}
