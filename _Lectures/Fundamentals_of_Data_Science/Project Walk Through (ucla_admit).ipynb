{
 "cells": [
  {
   "cell_type": "markdown",
   "metadata": {},
   "source": [
    "# Scikit-learn Introduction"
   ]
  },
  {
   "cell_type": "markdown",
   "metadata": {},
   "source": [
    "## Get the data"
   ]
  },
  {
   "cell_type": "code",
   "execution_count": 30,
   "metadata": {
    "scrolled": true
   },
   "outputs": [],
   "source": [
    "import pandas as pd\n",
    "import numpy as np"
   ]
  },
  {
   "cell_type": "code",
   "execution_count": 31,
   "metadata": {},
   "outputs": [],
   "source": [
    "# Get the UCLA Admissions dataset\n",
    "ucla_admit_df = pd.read_csv(\"ucla_admit.csv\")"
   ]
  },
  {
   "cell_type": "code",
   "execution_count": 32,
   "metadata": {},
   "outputs": [
    {
     "data": {
      "text/html": [
       "<div>\n",
       "<style scoped>\n",
       "    .dataframe tbody tr th:only-of-type {\n",
       "        vertical-align: middle;\n",
       "    }\n",
       "\n",
       "    .dataframe tbody tr th {\n",
       "        vertical-align: top;\n",
       "    }\n",
       "\n",
       "    .dataframe thead th {\n",
       "        text-align: right;\n",
       "    }\n",
       "</style>\n",
       "<table border=\"1\" class=\"dataframe\">\n",
       "  <thead>\n",
       "    <tr style=\"text-align: right;\">\n",
       "      <th></th>\n",
       "      <th>Serial No.</th>\n",
       "      <th>GRE Score</th>\n",
       "      <th>TOEFL Score</th>\n",
       "      <th>University Rating</th>\n",
       "      <th>SOP</th>\n",
       "      <th>LOR</th>\n",
       "      <th>GPA</th>\n",
       "      <th>Research</th>\n",
       "      <th>Admitted</th>\n",
       "    </tr>\n",
       "  </thead>\n",
       "  <tbody>\n",
       "    <tr>\n",
       "      <th>0</th>\n",
       "      <td>1</td>\n",
       "      <td>337</td>\n",
       "      <td>118</td>\n",
       "      <td>4</td>\n",
       "      <td>4.5</td>\n",
       "      <td>4.5</td>\n",
       "      <td>3.89</td>\n",
       "      <td>1</td>\n",
       "      <td>Yes</td>\n",
       "    </tr>\n",
       "    <tr>\n",
       "      <th>1</th>\n",
       "      <td>2</td>\n",
       "      <td>324</td>\n",
       "      <td>107</td>\n",
       "      <td>4</td>\n",
       "      <td>4.0</td>\n",
       "      <td>4.5</td>\n",
       "      <td>3.58</td>\n",
       "      <td>1</td>\n",
       "      <td>Yes</td>\n",
       "    </tr>\n",
       "    <tr>\n",
       "      <th>2</th>\n",
       "      <td>3</td>\n",
       "      <td>316</td>\n",
       "      <td>104</td>\n",
       "      <td>3</td>\n",
       "      <td>3.0</td>\n",
       "      <td>3.5</td>\n",
       "      <td>3.23</td>\n",
       "      <td>1</td>\n",
       "      <td>No</td>\n",
       "    </tr>\n",
       "    <tr>\n",
       "      <th>3</th>\n",
       "      <td>4</td>\n",
       "      <td>322</td>\n",
       "      <td>110</td>\n",
       "      <td>3</td>\n",
       "      <td>3.5</td>\n",
       "      <td>2.5</td>\n",
       "      <td>3.50</td>\n",
       "      <td>1</td>\n",
       "      <td>Yes</td>\n",
       "    </tr>\n",
       "    <tr>\n",
       "      <th>4</th>\n",
       "      <td>5</td>\n",
       "      <td>314</td>\n",
       "      <td>103</td>\n",
       "      <td>2</td>\n",
       "      <td>2.0</td>\n",
       "      <td>3.0</td>\n",
       "      <td>3.31</td>\n",
       "      <td>0</td>\n",
       "      <td>No</td>\n",
       "    </tr>\n",
       "  </tbody>\n",
       "</table>\n",
       "</div>"
      ],
      "text/plain": [
       "   Serial No.  GRE Score  TOEFL Score  University Rating  SOP  LOR    GPA  \\\n",
       "0           1        337          118                  4  4.5   4.5  3.89   \n",
       "1           2        324          107                  4  4.0   4.5  3.58   \n",
       "2           3        316          104                  3  3.0   3.5  3.23   \n",
       "3           4        322          110                  3  3.5   2.5  3.50   \n",
       "4           5        314          103                  2  2.0   3.0  3.31   \n",
       "\n",
       "   Research Admitted  \n",
       "0         1      Yes  \n",
       "1         1      Yes  \n",
       "2         1       No  \n",
       "3         1      Yes  \n",
       "4         0       No  "
      ]
     },
     "execution_count": 32,
     "metadata": {},
     "output_type": "execute_result"
    }
   ],
   "source": [
    "ucla_admit_df.head()"
   ]
  },
  {
   "cell_type": "markdown",
   "metadata": {},
   "source": [
    "### Drop unwanted features"
   ]
  },
  {
   "cell_type": "code",
   "execution_count": 33,
   "metadata": {},
   "outputs": [],
   "source": [
    "# Drop unwanted features\n",
    "ucla_admit_df = ucla_admit_df.drop(\"Serial No.\", axis=1)"
   ]
  },
  {
   "cell_type": "markdown",
   "metadata": {},
   "source": [
    "# Descriptive Statistics"
   ]
  },
  {
   "cell_type": "code",
   "execution_count": 34,
   "metadata": {},
   "outputs": [
    {
     "data": {
      "text/html": [
       "<div>\n",
       "<style scoped>\n",
       "    .dataframe tbody tr th:only-of-type {\n",
       "        vertical-align: middle;\n",
       "    }\n",
       "\n",
       "    .dataframe tbody tr th {\n",
       "        vertical-align: top;\n",
       "    }\n",
       "\n",
       "    .dataframe thead th {\n",
       "        text-align: right;\n",
       "    }\n",
       "</style>\n",
       "<table border=\"1\" class=\"dataframe\">\n",
       "  <thead>\n",
       "    <tr style=\"text-align: right;\">\n",
       "      <th></th>\n",
       "      <th>GRE Score</th>\n",
       "      <th>TOEFL Score</th>\n",
       "      <th>University Rating</th>\n",
       "      <th>SOP</th>\n",
       "      <th>LOR</th>\n",
       "      <th>GPA</th>\n",
       "      <th>Research</th>\n",
       "    </tr>\n",
       "  </thead>\n",
       "  <tbody>\n",
       "    <tr>\n",
       "      <th>count</th>\n",
       "      <td>400.000000</td>\n",
       "      <td>400.000000</td>\n",
       "      <td>400.000000</td>\n",
       "      <td>400.000000</td>\n",
       "      <td>400.000000</td>\n",
       "      <td>400.000000</td>\n",
       "      <td>400.000000</td>\n",
       "    </tr>\n",
       "    <tr>\n",
       "      <th>mean</th>\n",
       "      <td>316.807500</td>\n",
       "      <td>107.410000</td>\n",
       "      <td>3.087500</td>\n",
       "      <td>3.400000</td>\n",
       "      <td>3.452500</td>\n",
       "      <td>3.467325</td>\n",
       "      <td>0.547500</td>\n",
       "    </tr>\n",
       "    <tr>\n",
       "      <th>std</th>\n",
       "      <td>11.473646</td>\n",
       "      <td>6.069514</td>\n",
       "      <td>1.143728</td>\n",
       "      <td>1.006869</td>\n",
       "      <td>0.898478</td>\n",
       "      <td>0.240524</td>\n",
       "      <td>0.498362</td>\n",
       "    </tr>\n",
       "    <tr>\n",
       "      <th>min</th>\n",
       "      <td>290.000000</td>\n",
       "      <td>92.000000</td>\n",
       "      <td>1.000000</td>\n",
       "      <td>1.000000</td>\n",
       "      <td>1.000000</td>\n",
       "      <td>2.740000</td>\n",
       "      <td>0.000000</td>\n",
       "    </tr>\n",
       "    <tr>\n",
       "      <th>25%</th>\n",
       "      <td>308.000000</td>\n",
       "      <td>103.000000</td>\n",
       "      <td>2.000000</td>\n",
       "      <td>2.500000</td>\n",
       "      <td>3.000000</td>\n",
       "      <td>3.290000</td>\n",
       "      <td>0.000000</td>\n",
       "    </tr>\n",
       "    <tr>\n",
       "      <th>50%</th>\n",
       "      <td>317.000000</td>\n",
       "      <td>107.000000</td>\n",
       "      <td>3.000000</td>\n",
       "      <td>3.500000</td>\n",
       "      <td>3.500000</td>\n",
       "      <td>3.475000</td>\n",
       "      <td>1.000000</td>\n",
       "    </tr>\n",
       "    <tr>\n",
       "      <th>75%</th>\n",
       "      <td>325.000000</td>\n",
       "      <td>112.000000</td>\n",
       "      <td>4.000000</td>\n",
       "      <td>4.000000</td>\n",
       "      <td>4.000000</td>\n",
       "      <td>3.652500</td>\n",
       "      <td>1.000000</td>\n",
       "    </tr>\n",
       "    <tr>\n",
       "      <th>max</th>\n",
       "      <td>340.000000</td>\n",
       "      <td>120.000000</td>\n",
       "      <td>5.000000</td>\n",
       "      <td>5.000000</td>\n",
       "      <td>5.000000</td>\n",
       "      <td>4.000000</td>\n",
       "      <td>1.000000</td>\n",
       "    </tr>\n",
       "  </tbody>\n",
       "</table>\n",
       "</div>"
      ],
      "text/plain": [
       "        GRE Score  TOEFL Score  University Rating         SOP        LOR   \\\n",
       "count  400.000000   400.000000         400.000000  400.000000  400.000000   \n",
       "mean   316.807500   107.410000           3.087500    3.400000    3.452500   \n",
       "std     11.473646     6.069514           1.143728    1.006869    0.898478   \n",
       "min    290.000000    92.000000           1.000000    1.000000    1.000000   \n",
       "25%    308.000000   103.000000           2.000000    2.500000    3.000000   \n",
       "50%    317.000000   107.000000           3.000000    3.500000    3.500000   \n",
       "75%    325.000000   112.000000           4.000000    4.000000    4.000000   \n",
       "max    340.000000   120.000000           5.000000    5.000000    5.000000   \n",
       "\n",
       "              GPA    Research  \n",
       "count  400.000000  400.000000  \n",
       "mean     3.467325    0.547500  \n",
       "std      0.240524    0.498362  \n",
       "min      2.740000    0.000000  \n",
       "25%      3.290000    0.000000  \n",
       "50%      3.475000    1.000000  \n",
       "75%      3.652500    1.000000  \n",
       "max      4.000000    1.000000  "
      ]
     },
     "execution_count": 34,
     "metadata": {},
     "output_type": "execute_result"
    }
   ],
   "source": [
    "ucla_admit_df.describe()"
   ]
  },
  {
   "cell_type": "markdown",
   "metadata": {},
   "source": [
    "# Evaluate Features"
   ]
  },
  {
   "cell_type": "markdown",
   "metadata": {},
   "source": [
    "### Check Correlated Features"
   ]
  },
  {
   "cell_type": "code",
   "execution_count": 35,
   "metadata": {},
   "outputs": [
    {
     "data": {
      "text/html": [
       "<div>\n",
       "<style scoped>\n",
       "    .dataframe tbody tr th:only-of-type {\n",
       "        vertical-align: middle;\n",
       "    }\n",
       "\n",
       "    .dataframe tbody tr th {\n",
       "        vertical-align: top;\n",
       "    }\n",
       "\n",
       "    .dataframe thead th {\n",
       "        text-align: right;\n",
       "    }\n",
       "</style>\n",
       "<table border=\"1\" class=\"dataframe\">\n",
       "  <thead>\n",
       "    <tr style=\"text-align: right;\">\n",
       "      <th></th>\n",
       "      <th>GRE Score</th>\n",
       "      <th>TOEFL Score</th>\n",
       "      <th>University Rating</th>\n",
       "      <th>SOP</th>\n",
       "      <th>LOR</th>\n",
       "      <th>GPA</th>\n",
       "      <th>Research</th>\n",
       "    </tr>\n",
       "  </thead>\n",
       "  <tbody>\n",
       "    <tr>\n",
       "      <th>GRE Score</th>\n",
       "      <td>1.000000</td>\n",
       "      <td>0.835977</td>\n",
       "      <td>0.668976</td>\n",
       "      <td>0.612831</td>\n",
       "      <td>0.557555</td>\n",
       "      <td>0.832669</td>\n",
       "      <td>0.580391</td>\n",
       "    </tr>\n",
       "    <tr>\n",
       "      <th>TOEFL Score</th>\n",
       "      <td>0.835977</td>\n",
       "      <td>1.000000</td>\n",
       "      <td>0.695590</td>\n",
       "      <td>0.657981</td>\n",
       "      <td>0.567721</td>\n",
       "      <td>0.828019</td>\n",
       "      <td>0.489858</td>\n",
       "    </tr>\n",
       "    <tr>\n",
       "      <th>University Rating</th>\n",
       "      <td>0.668976</td>\n",
       "      <td>0.695590</td>\n",
       "      <td>1.000000</td>\n",
       "      <td>0.734523</td>\n",
       "      <td>0.660123</td>\n",
       "      <td>0.745734</td>\n",
       "      <td>0.447783</td>\n",
       "    </tr>\n",
       "    <tr>\n",
       "      <th>SOP</th>\n",
       "      <td>0.612831</td>\n",
       "      <td>0.657981</td>\n",
       "      <td>0.734523</td>\n",
       "      <td>1.000000</td>\n",
       "      <td>0.729593</td>\n",
       "      <td>0.718403</td>\n",
       "      <td>0.444029</td>\n",
       "    </tr>\n",
       "    <tr>\n",
       "      <th>LOR</th>\n",
       "      <td>0.557555</td>\n",
       "      <td>0.567721</td>\n",
       "      <td>0.660123</td>\n",
       "      <td>0.729593</td>\n",
       "      <td>1.000000</td>\n",
       "      <td>0.669626</td>\n",
       "      <td>0.396859</td>\n",
       "    </tr>\n",
       "    <tr>\n",
       "      <th>GPA</th>\n",
       "      <td>0.832669</td>\n",
       "      <td>0.828019</td>\n",
       "      <td>0.745734</td>\n",
       "      <td>0.718403</td>\n",
       "      <td>0.669626</td>\n",
       "      <td>1.000000</td>\n",
       "      <td>0.521163</td>\n",
       "    </tr>\n",
       "    <tr>\n",
       "      <th>Research</th>\n",
       "      <td>0.580391</td>\n",
       "      <td>0.489858</td>\n",
       "      <td>0.447783</td>\n",
       "      <td>0.444029</td>\n",
       "      <td>0.396859</td>\n",
       "      <td>0.521163</td>\n",
       "      <td>1.000000</td>\n",
       "    </tr>\n",
       "  </tbody>\n",
       "</table>\n",
       "</div>"
      ],
      "text/plain": [
       "                   GRE Score  TOEFL Score  University Rating       SOP  \\\n",
       "GRE Score           1.000000     0.835977           0.668976  0.612831   \n",
       "TOEFL Score         0.835977     1.000000           0.695590  0.657981   \n",
       "University Rating   0.668976     0.695590           1.000000  0.734523   \n",
       "SOP                 0.612831     0.657981           0.734523  1.000000   \n",
       "LOR                 0.557555     0.567721           0.660123  0.729593   \n",
       "GPA                 0.832669     0.828019           0.745734  0.718403   \n",
       "Research            0.580391     0.489858           0.447783  0.444029   \n",
       "\n",
       "                       LOR        GPA  Research  \n",
       "GRE Score          0.557555  0.832669  0.580391  \n",
       "TOEFL Score        0.567721  0.828019  0.489858  \n",
       "University Rating  0.660123  0.745734  0.447783  \n",
       "SOP                0.729593  0.718403  0.444029  \n",
       "LOR                1.000000  0.669626  0.396859  \n",
       "GPA                0.669626  1.000000  0.521163  \n",
       "Research           0.396859  0.521163  1.000000  "
      ]
     },
     "execution_count": 35,
     "metadata": {},
     "output_type": "execute_result"
    }
   ],
   "source": [
    "ucla_admit_df.corr()"
   ]
  },
  {
   "cell_type": "code",
   "execution_count": 37,
   "metadata": {},
   "outputs": [
    {
     "data": {
      "image/png": "[encoded data removed]",
      "text/plain": [
       "<Figure size 414x360 with 6 Axes>"
      ]
     },
     "metadata": {
      "needs_background": "light"
     },
     "output_type": "display_data"
    }
   ],
   "source": [
    "import seaborn as sns\n",
    "\n",
    "# hides Jupyter warnings\n",
    "import warnings\n",
    "warnings.filterwarnings('ignore')\n",
    "\n",
    "pair_plot = sns.pairplot(ucla_admit_df[[\"Admitted\", \"GRE Score\", \"GPA\"]], hue='Admitted')"
   ]
  },
  {
   "cell_type": "markdown",
   "metadata": {},
   "source": [
    "### Feature Engineering and Transformation"
   ]
  },
  {
   "cell_type": "code",
   "execution_count": 38,
   "metadata": {},
   "outputs": [],
   "source": [
    "# Most algorithms require strings to be converted to numbers (you can use .map() to accomplish this).\n",
    "# Transform \"Admitted\" from strings to a binary feature\n",
    "ucla_admit_df[\"Admitted\"] = ucla_admit_df[\"Admitted\"].map({\"No\":0, \"Yes\": 1})"
   ]
  },
  {
   "cell_type": "code",
   "execution_count": 7,
   "metadata": {},
   "outputs": [
    {
     "data": {
      "text/html": [
       "<div>\n",
       "<style scoped>\n",
       "    .dataframe tbody tr th:only-of-type {\n",
       "        vertical-align: middle;\n",
       "    }\n",
       "\n",
       "    .dataframe tbody tr th {\n",
       "        vertical-align: top;\n",
       "    }\n",
       "\n",
       "    .dataframe thead th {\n",
       "        text-align: right;\n",
       "    }\n",
       "</style>\n",
       "<table border=\"1\" class=\"dataframe\">\n",
       "  <thead>\n",
       "    <tr style=\"text-align: right;\">\n",
       "      <th></th>\n",
       "      <th>GRE Score</th>\n",
       "      <th>TOEFL Score</th>\n",
       "      <th>University Rating</th>\n",
       "      <th>SOP</th>\n",
       "      <th>LOR</th>\n",
       "      <th>GPA</th>\n",
       "      <th>Research</th>\n",
       "      <th>Admitted</th>\n",
       "      <th>Performance Score</th>\n",
       "    </tr>\n",
       "  </thead>\n",
       "  <tbody>\n",
       "    <tr>\n",
       "      <th>0</th>\n",
       "      <td>337</td>\n",
       "      <td>118</td>\n",
       "      <td>4</td>\n",
       "      <td>4.5</td>\n",
       "      <td>4.5</td>\n",
       "      <td>3.89</td>\n",
       "      <td>1</td>\n",
       "      <td>1</td>\n",
       "      <td>726.0</td>\n",
       "    </tr>\n",
       "    <tr>\n",
       "      <th>1</th>\n",
       "      <td>324</td>\n",
       "      <td>107</td>\n",
       "      <td>4</td>\n",
       "      <td>4.0</td>\n",
       "      <td>4.5</td>\n",
       "      <td>3.58</td>\n",
       "      <td>1</td>\n",
       "      <td>1</td>\n",
       "      <td>682.0</td>\n",
       "    </tr>\n",
       "    <tr>\n",
       "      <th>2</th>\n",
       "      <td>316</td>\n",
       "      <td>104</td>\n",
       "      <td>3</td>\n",
       "      <td>3.0</td>\n",
       "      <td>3.5</td>\n",
       "      <td>3.23</td>\n",
       "      <td>1</td>\n",
       "      <td>0</td>\n",
       "      <td>639.0</td>\n",
       "    </tr>\n",
       "    <tr>\n",
       "      <th>3</th>\n",
       "      <td>322</td>\n",
       "      <td>110</td>\n",
       "      <td>3</td>\n",
       "      <td>3.5</td>\n",
       "      <td>2.5</td>\n",
       "      <td>3.50</td>\n",
       "      <td>1</td>\n",
       "      <td>1</td>\n",
       "      <td>672.0</td>\n",
       "    </tr>\n",
       "    <tr>\n",
       "      <th>4</th>\n",
       "      <td>314</td>\n",
       "      <td>103</td>\n",
       "      <td>2</td>\n",
       "      <td>2.0</td>\n",
       "      <td>3.0</td>\n",
       "      <td>3.31</td>\n",
       "      <td>0</td>\n",
       "      <td>0</td>\n",
       "      <td>645.0</td>\n",
       "    </tr>\n",
       "  </tbody>\n",
       "</table>\n",
       "</div>"
      ],
      "text/plain": [
       "   GRE Score  TOEFL Score  University Rating  SOP  LOR    GPA  Research  \\\n",
       "0        337          118                  4  4.5   4.5  3.89         1   \n",
       "1        324          107                  4  4.0   4.5  3.58         1   \n",
       "2        316          104                  3  3.0   3.5  3.23         1   \n",
       "3        322          110                  3  3.5   2.5  3.50         1   \n",
       "4        314          103                  2  2.0   3.0  3.31         0   \n",
       "\n",
       "   Admitted  Performance Score  \n",
       "0         1              726.0  \n",
       "1         1              682.0  \n",
       "2         0              639.0  \n",
       "3         1              672.0  \n",
       "4         0              645.0  "
      ]
     },
     "execution_count": 7,
     "metadata": {},
     "output_type": "execute_result"
    }
   ],
   "source": [
    "# combine \"GRE Score\" and \"GPA\" into a new feature, \"Performance Score\"\n",
    "\n",
    "ucla_admit_df[\"Performance Score\"] = ucla_admit_df[\"GRE Score\"]+(ucla_admit_df[\"GPA\"]*100)\n",
    "\n",
    "ucla_admit_df.head()"
   ]
  },
  {
   "cell_type": "code",
   "execution_count": 8,
   "metadata": {},
   "outputs": [
    {
     "data": {
      "text/html": [
       "<div>\n",
       "<style scoped>\n",
       "    .dataframe tbody tr th:only-of-type {\n",
       "        vertical-align: middle;\n",
       "    }\n",
       "\n",
       "    .dataframe tbody tr th {\n",
       "        vertical-align: top;\n",
       "    }\n",
       "\n",
       "    .dataframe thead th {\n",
       "        text-align: right;\n",
       "    }\n",
       "</style>\n",
       "<table border=\"1\" class=\"dataframe\">\n",
       "  <thead>\n",
       "    <tr style=\"text-align: right;\">\n",
       "      <th></th>\n",
       "      <th>GRE Score</th>\n",
       "      <th>TOEFL Score</th>\n",
       "      <th>University Rating</th>\n",
       "      <th>SOP</th>\n",
       "      <th>LOR</th>\n",
       "      <th>GPA</th>\n",
       "      <th>Research</th>\n",
       "      <th>Admitted</th>\n",
       "      <th>Performance Score</th>\n",
       "      <th>Adj. GPA</th>\n",
       "    </tr>\n",
       "  </thead>\n",
       "  <tbody>\n",
       "    <tr>\n",
       "      <th>0</th>\n",
       "      <td>337</td>\n",
       "      <td>118</td>\n",
       "      <td>4</td>\n",
       "      <td>4.5</td>\n",
       "      <td>4.5</td>\n",
       "      <td>3.89</td>\n",
       "      <td>1</td>\n",
       "      <td>1</td>\n",
       "      <td>726.0</td>\n",
       "      <td>429.0</td>\n",
       "    </tr>\n",
       "    <tr>\n",
       "      <th>1</th>\n",
       "      <td>324</td>\n",
       "      <td>107</td>\n",
       "      <td>4</td>\n",
       "      <td>4.0</td>\n",
       "      <td>4.5</td>\n",
       "      <td>3.58</td>\n",
       "      <td>1</td>\n",
       "      <td>1</td>\n",
       "      <td>682.0</td>\n",
       "      <td>398.0</td>\n",
       "    </tr>\n",
       "    <tr>\n",
       "      <th>2</th>\n",
       "      <td>316</td>\n",
       "      <td>104</td>\n",
       "      <td>3</td>\n",
       "      <td>3.0</td>\n",
       "      <td>3.5</td>\n",
       "      <td>3.23</td>\n",
       "      <td>1</td>\n",
       "      <td>0</td>\n",
       "      <td>639.0</td>\n",
       "      <td>353.0</td>\n",
       "    </tr>\n",
       "    <tr>\n",
       "      <th>3</th>\n",
       "      <td>322</td>\n",
       "      <td>110</td>\n",
       "      <td>3</td>\n",
       "      <td>3.5</td>\n",
       "      <td>2.5</td>\n",
       "      <td>3.50</td>\n",
       "      <td>1</td>\n",
       "      <td>1</td>\n",
       "      <td>672.0</td>\n",
       "      <td>380.0</td>\n",
       "    </tr>\n",
       "    <tr>\n",
       "      <th>4</th>\n",
       "      <td>314</td>\n",
       "      <td>103</td>\n",
       "      <td>2</td>\n",
       "      <td>2.0</td>\n",
       "      <td>3.0</td>\n",
       "      <td>3.31</td>\n",
       "      <td>0</td>\n",
       "      <td>0</td>\n",
       "      <td>645.0</td>\n",
       "      <td>351.0</td>\n",
       "    </tr>\n",
       "  </tbody>\n",
       "</table>\n",
       "</div>"
      ],
      "text/plain": [
       "   GRE Score  TOEFL Score  University Rating  SOP  LOR    GPA  Research  \\\n",
       "0        337          118                  4  4.5   4.5  3.89         1   \n",
       "1        324          107                  4  4.0   4.5  3.58         1   \n",
       "2        316          104                  3  3.0   3.5  3.23         1   \n",
       "3        322          110                  3  3.5   2.5  3.50         1   \n",
       "4        314          103                  2  2.0   3.0  3.31         0   \n",
       "\n",
       "   Admitted  Performance Score  Adj. GPA  \n",
       "0         1              726.0     429.0  \n",
       "1         1              682.0     398.0  \n",
       "2         0              639.0     353.0  \n",
       "3         1              672.0     380.0  \n",
       "4         0              645.0     351.0  "
      ]
     },
     "execution_count": 8,
     "metadata": {},
     "output_type": "execute_result"
    }
   ],
   "source": [
    "# You can create an adjusted performance score, \"Adj. GPA\" \n",
    "#         to account for the level of University they're applying to.\n",
    "ucla_admit_df[\"Adj. GPA\"] = (ucla_admit_df[\"GPA\"]*100) +(ucla_admit_df[\"University Rating\"]*10)\n",
    "\n",
    "ucla_admit_df.head()"
   ]
  },
  {
   "cell_type": "markdown",
   "metadata": {},
   "source": [
    "# Inferential Statistics"
   ]
  },
  {
   "cell_type": "code",
   "execution_count": 9,
   "metadata": {},
   "outputs": [
    {
     "data": {
      "text/plain": [
       "<function scipy.stats.stats.ttest_ind(a, b, axis=0, equal_var=True, nan_policy='propagate')>"
      ]
     },
     "execution_count": 9,
     "metadata": {},
     "output_type": "execute_result"
    }
   ],
   "source": [
    "from scipy import stats\n",
    "stats.ttest_ind"
   ]
  },
  {
   "cell_type": "code",
   "execution_count": 10,
   "metadata": {},
   "outputs": [],
   "source": [
    "# You can apply inferential statistics\n",
    "# For example, you can use a t-test to see if the difference in mean GRE scores \n",
    "#              between the admitted and not admitted groups is real or by random chance.\n",
    "\n",
    "# get the GRE Scores of each group\n",
    "adm_mean_GRE = ucla_admit_df.loc[ucla_admit_df[\"Admitted\"] == 1, \"GRE Score\"]\n",
    "not_mean_GRE = ucla_admit_df.loc[ucla_admit_df[\"Admitted\"] == 0, \"GRE Score\"]"
   ]
  },
  {
   "cell_type": "code",
   "execution_count": 12,
   "metadata": {},
   "outputs": [
    {
     "data": {
      "text/plain": [
       "(325.18324607329845, 309.1531100478469)"
      ]
     },
     "execution_count": 12,
     "metadata": {},
     "output_type": "execute_result"
    }
   ],
   "source": [
    "adm_mean_GRE.mean(), not_mean_GRE.mean()"
   ]
  },
  {
   "cell_type": "code",
   "execution_count": 11,
   "metadata": {},
   "outputs": [
    {
     "data": {
      "text/plain": [
       "Ttest_indResult(statistic=19.48544442909625, pvalue=7.300443662324425e-60)"
      ]
     },
     "execution_count": 11,
     "metadata": {},
     "output_type": "execute_result"
    }
   ],
   "source": [
    "# perform the t-test for differences between means\n",
    "stats.ttest_ind(adm_mean_GRE, not_mean_GRE)"
   ]
  },
  {
   "cell_type": "markdown",
   "metadata": {},
   "source": [
    "# Machine Learning"
   ]
  },
  {
   "cell_type": "code",
   "execution_count": 39,
   "metadata": {},
   "outputs": [
    {
     "data": {
      "text/html": [
       "<div>\n",
       "<style scoped>\n",
       "    .dataframe tbody tr th:only-of-type {\n",
       "        vertical-align: middle;\n",
       "    }\n",
       "\n",
       "    .dataframe tbody tr th {\n",
       "        vertical-align: top;\n",
       "    }\n",
       "\n",
       "    .dataframe thead th {\n",
       "        text-align: right;\n",
       "    }\n",
       "</style>\n",
       "<table border=\"1\" class=\"dataframe\">\n",
       "  <thead>\n",
       "    <tr style=\"text-align: right;\">\n",
       "      <th></th>\n",
       "      <th>TOEFL Score</th>\n",
       "      <th>University Rating</th>\n",
       "      <th>SOP</th>\n",
       "      <th>LOR</th>\n",
       "      <th>Research</th>\n",
       "      <th>Admitted</th>\n",
       "    </tr>\n",
       "  </thead>\n",
       "  <tbody>\n",
       "    <tr>\n",
       "      <th>0</th>\n",
       "      <td>118</td>\n",
       "      <td>4</td>\n",
       "      <td>4.5</td>\n",
       "      <td>4.5</td>\n",
       "      <td>1</td>\n",
       "      <td>1</td>\n",
       "    </tr>\n",
       "    <tr>\n",
       "      <th>1</th>\n",
       "      <td>107</td>\n",
       "      <td>4</td>\n",
       "      <td>4.0</td>\n",
       "      <td>4.5</td>\n",
       "      <td>1</td>\n",
       "      <td>1</td>\n",
       "    </tr>\n",
       "    <tr>\n",
       "      <th>2</th>\n",
       "      <td>104</td>\n",
       "      <td>3</td>\n",
       "      <td>3.0</td>\n",
       "      <td>3.5</td>\n",
       "      <td>1</td>\n",
       "      <td>0</td>\n",
       "    </tr>\n",
       "    <tr>\n",
       "      <th>3</th>\n",
       "      <td>110</td>\n",
       "      <td>3</td>\n",
       "      <td>3.5</td>\n",
       "      <td>2.5</td>\n",
       "      <td>1</td>\n",
       "      <td>1</td>\n",
       "    </tr>\n",
       "    <tr>\n",
       "      <th>4</th>\n",
       "      <td>103</td>\n",
       "      <td>2</td>\n",
       "      <td>2.0</td>\n",
       "      <td>3.0</td>\n",
       "      <td>0</td>\n",
       "      <td>0</td>\n",
       "    </tr>\n",
       "  </tbody>\n",
       "</table>\n",
       "</div>"
      ],
      "text/plain": [
       "   TOEFL Score  University Rating  SOP  LOR   Research  Admitted\n",
       "0          118                  4  4.5   4.5         1         1\n",
       "1          107                  4  4.0   4.5         1         1\n",
       "2          104                  3  3.0   3.5         1         0\n",
       "3          110                  3  3.5   2.5         1         1\n",
       "4          103                  2  2.0   3.0         0         0"
      ]
     },
     "execution_count": 39,
     "metadata": {},
     "output_type": "execute_result"
    }
   ],
   "source": [
    "# You could potentially drop \"GRE Score\" and \"GPA\" as they are favtored into \"Performance Score\"\n",
    "\n",
    "ucla_admit_df = ucla_admit_df.drop([\"GRE Score\", \"GPA\"], axis=1)\n",
    "ucla_admit_df.head()"
   ]
  },
  {
   "cell_type": "code",
   "execution_count": 14,
   "metadata": {},
   "outputs": [
    {
     "data": {
      "text/html": [
       "<div>\n",
       "<style scoped>\n",
       "    .dataframe tbody tr th:only-of-type {\n",
       "        vertical-align: middle;\n",
       "    }\n",
       "\n",
       "    .dataframe tbody tr th {\n",
       "        vertical-align: top;\n",
       "    }\n",
       "\n",
       "    .dataframe thead th {\n",
       "        text-align: right;\n",
       "    }\n",
       "</style>\n",
       "<table border=\"1\" class=\"dataframe\">\n",
       "  <thead>\n",
       "    <tr style=\"text-align: right;\">\n",
       "      <th></th>\n",
       "      <th>TOEFL Score</th>\n",
       "      <th>University Rating</th>\n",
       "      <th>SOP</th>\n",
       "      <th>LOR</th>\n",
       "      <th>Research</th>\n",
       "      <th>Performance Score</th>\n",
       "      <th>Adj. GPA</th>\n",
       "      <th>Admitted</th>\n",
       "    </tr>\n",
       "  </thead>\n",
       "  <tbody>\n",
       "    <tr>\n",
       "      <th>0</th>\n",
       "      <td>118</td>\n",
       "      <td>4</td>\n",
       "      <td>4.5</td>\n",
       "      <td>4.5</td>\n",
       "      <td>1</td>\n",
       "      <td>726.0</td>\n",
       "      <td>429.0</td>\n",
       "      <td>1</td>\n",
       "    </tr>\n",
       "    <tr>\n",
       "      <th>1</th>\n",
       "      <td>107</td>\n",
       "      <td>4</td>\n",
       "      <td>4.0</td>\n",
       "      <td>4.5</td>\n",
       "      <td>1</td>\n",
       "      <td>682.0</td>\n",
       "      <td>398.0</td>\n",
       "      <td>1</td>\n",
       "    </tr>\n",
       "    <tr>\n",
       "      <th>2</th>\n",
       "      <td>104</td>\n",
       "      <td>3</td>\n",
       "      <td>3.0</td>\n",
       "      <td>3.5</td>\n",
       "      <td>1</td>\n",
       "      <td>639.0</td>\n",
       "      <td>353.0</td>\n",
       "      <td>0</td>\n",
       "    </tr>\n",
       "    <tr>\n",
       "      <th>3</th>\n",
       "      <td>110</td>\n",
       "      <td>3</td>\n",
       "      <td>3.5</td>\n",
       "      <td>2.5</td>\n",
       "      <td>1</td>\n",
       "      <td>672.0</td>\n",
       "      <td>380.0</td>\n",
       "      <td>1</td>\n",
       "    </tr>\n",
       "    <tr>\n",
       "      <th>4</th>\n",
       "      <td>103</td>\n",
       "      <td>2</td>\n",
       "      <td>2.0</td>\n",
       "      <td>3.0</td>\n",
       "      <td>0</td>\n",
       "      <td>645.0</td>\n",
       "      <td>351.0</td>\n",
       "      <td>0</td>\n",
       "    </tr>\n",
       "  </tbody>\n",
       "</table>\n",
       "</div>"
      ],
      "text/plain": [
       "   TOEFL Score  University Rating  SOP  LOR   Research  Performance Score  \\\n",
       "0          118                  4  4.5   4.5         1              726.0   \n",
       "1          107                  4  4.0   4.5         1              682.0   \n",
       "2          104                  3  3.0   3.5         1              639.0   \n",
       "3          110                  3  3.5   2.5         1              672.0   \n",
       "4          103                  2  2.0   3.0         0              645.0   \n",
       "\n",
       "   Adj. GPA  Admitted  \n",
       "0     429.0         1  \n",
       "1     398.0         1  \n",
       "2     353.0         0  \n",
       "3     380.0         1  \n",
       "4     351.0         0  "
      ]
     },
     "execution_count": 14,
     "metadata": {},
     "output_type": "execute_result"
    }
   ],
   "source": [
    "# Move the Target variable \"Admitted\" to be the last variable\n",
    "ucla_admit_df = ucla_admit_df.iloc[:, [0,1,2,3,4,6,7, 5]]\n",
    "ucla_admit_df.head()"
   ]
  },
  {
   "cell_type": "markdown",
   "metadata": {},
   "source": [
    "## Separate the data into X (features) and y (target)"
   ]
  },
  {
   "cell_type": "code",
   "execution_count": 40,
   "metadata": {},
   "outputs": [],
   "source": [
    "# return only the values, not the DataFrame\n",
    "   # capital X usually indicates all of the features that the algorithm will be given to learn from\n",
    "    \n",
    "X = ucla_admit_df.iloc[:,:-1].values"
   ]
  },
  {
   "cell_type": "code",
   "execution_count": 16,
   "metadata": {},
   "outputs": [
    {
     "data": {
      "text/plain": [
       "array([[118. ,   4. ,   4.5,   4.5,   1. , 726. , 429. ],\n",
       "       [107. ,   4. ,   4. ,   4.5,   1. , 682. , 398. ],\n",
       "       [104. ,   3. ,   3. ,   3.5,   1. , 639. , 353. ],\n",
       "       [110. ,   3. ,   3.5,   2.5,   1. , 672. , 380. ],\n",
       "       [103. ,   2. ,   2. ,   3. ,   0. , 645. , 351. ]])"
      ]
     },
     "execution_count": 16,
     "metadata": {},
     "output_type": "execute_result"
    }
   ],
   "source": [
    "X[:5]"
   ]
  },
  {
   "cell_type": "code",
   "execution_count": 17,
   "metadata": {},
   "outputs": [],
   "source": [
    "# lowercase y usually indicates the classifications that you would like to predict.\n",
    "    # Most algorithms require strings to be converted to numbers (you can use .map() to accomplish this).\n",
    "    \n",
    "y = ucla_admit_df.iloc[:,-1].values"
   ]
  },
  {
   "cell_type": "code",
   "execution_count": 18,
   "metadata": {},
   "outputs": [
    {
     "data": {
      "text/plain": [
       "array([1, 1, 0, 1, 0, 1, 1, 0, 0, 0, 0, 1, 1, 0, 0, 0, 0, 0, 0, 0, 0, 0,\n",
       "       1, 1, 1, 1, 1, 0, 0, 0, 0, 1, 1, 1, 1, 1, 0, 0, 0, 0, 0, 0, 0, 1,\n",
       "       1, 1, 1, 1, 1, 1, 1, 0, 1, 0, 0, 0, 0, 0, 0, 0, 0, 0, 0, 0, 0, 0,\n",
       "       0, 0, 0, 1, 1, 1, 1, 1, 1, 0, 1, 0, 0, 0, 0, 1, 1, 1, 1, 1, 0, 0,\n",
       "       0, 1, 0, 0, 0, 0, 0, 0, 0, 1, 1, 1, 0, 0, 0, 0, 1, 0, 1, 1, 1, 0,\n",
       "       0, 0, 0, 0, 0, 0, 0, 0, 0, 0, 1, 1, 0, 0, 0, 0, 1, 1, 1, 1, 1, 1,\n",
       "       0, 1, 1, 1, 1, 0, 1, 1, 1, 1, 1, 1, 1, 1, 1, 1, 1, 1, 1, 1, 1, 1,\n",
       "       1, 1, 0, 0, 0, 0, 0, 0, 0, 0, 1, 1, 0, 0, 0, 0, 0, 1, 1, 1, 1, 1,\n",
       "       1, 1, 0, 0, 0, 0, 0, 1, 0, 1, 1, 1, 1, 1, 1, 1, 1, 1, 1, 1, 0, 0,\n",
       "       0, 0, 0, 0, 1, 1, 0, 0, 0, 0, 0, 0, 1, 1, 1, 1, 1, 1, 1, 1, 1, 1,\n",
       "       1, 1, 1, 0, 0, 0, 0, 0, 0, 1, 0, 1, 0, 0, 1, 1, 1, 1, 0, 0, 0, 0,\n",
       "       0, 1, 0, 1, 0, 0, 1, 1, 1, 0, 0, 1, 1, 1, 1, 1, 1, 1, 1, 0, 0, 0,\n",
       "       1, 0, 0, 0, 1, 1, 0, 0, 0, 0, 0, 1, 1, 0, 0, 0, 0, 1, 1, 1, 1, 1,\n",
       "       1, 1, 1, 1, 0, 0, 0, 0, 0, 0, 1, 1, 1, 0, 0, 0, 0, 0, 0, 1, 1, 1,\n",
       "       0, 0, 1, 1, 1, 0, 0, 0, 0, 0, 1, 1, 1, 0, 0, 0, 0, 1, 0, 0, 1, 0,\n",
       "       1, 0, 1, 0, 0, 1, 0, 1, 1, 1, 1, 1, 0, 0, 0, 0, 0, 0, 0, 0, 1, 0,\n",
       "       0, 0, 0, 0, 1, 0, 0, 1, 1, 1, 1, 0, 1, 1, 1, 0, 0, 0, 0, 1, 1, 1,\n",
       "       0, 0, 0, 0, 0, 0, 1, 0, 1, 0, 1, 1, 0, 0, 0, 1, 0, 0, 1, 1, 1, 1,\n",
       "       1, 1, 0, 1], dtype=int64)"
      ]
     },
     "execution_count": 18,
     "metadata": {},
     "output_type": "execute_result"
    }
   ],
   "source": [
    "y"
   ]
  },
  {
   "cell_type": "markdown",
   "metadata": {},
   "source": [
    "## Split the data into train and test sets"
   ]
  },
  {
   "cell_type": "code",
   "execution_count": 19,
   "metadata": {},
   "outputs": [],
   "source": [
    "# split dataset into test/train\n",
    "from sklearn.model_selection import train_test_split\n",
    "X_train, X_test, y_train, y_test = train_test_split(X, y, random_state=1, test_size=0.3)"
   ]
  },
  {
   "cell_type": "code",
   "execution_count": 20,
   "metadata": {},
   "outputs": [
    {
     "data": {
      "text/plain": [
       "((280, 7), (120, 7))"
      ]
     },
     "execution_count": 20,
     "metadata": {},
     "output_type": "execute_result"
    }
   ],
   "source": [
    "X_train.shape, X_test.shape"
   ]
  },
  {
   "cell_type": "code",
   "execution_count": 21,
   "metadata": {},
   "outputs": [],
   "source": [
    "# standardize features using scikit-learn\n",
    "from sklearn.preprocessing import StandardScaler\n",
    "stdsc = StandardScaler()\n",
    "\n",
    "X_train_std = stdsc.fit_transform(X_train)\n",
    "X_test_std = stdsc.transform(X_test)"
   ]
  },
  {
   "cell_type": "code",
   "execution_count": 22,
   "metadata": {},
   "outputs": [
    {
     "data": {
      "text/plain": [
       "array([[108. ,   2. ,   4. ,   3.5,   0. , 617. , 330. ],\n",
       "       [102. ,   3. ,   2. ,   3. ,   0. , 646. , 363. ],\n",
       "       [100. ,   3. ,   3. ,   3.5,   0. , 633. , 363. ],\n",
       "       [110. ,   3. ,   3.5,   4. ,   0. , 661. , 375. ],\n",
       "       [110. ,   4. ,   3.5,   4. ,   1. , 675. , 390. ]])"
      ]
     },
     "execution_count": 22,
     "metadata": {},
     "output_type": "execute_result"
    }
   ],
   "source": [
    "X_train[:5]"
   ]
  },
  {
   "cell_type": "code",
   "execution_count": 23,
   "metadata": {},
   "outputs": [
    {
     "data": {
      "text/plain": [
       "array([[ 0.08218457, -0.92883263,  0.60139291,  0.05212093, -1.07417231,\n",
       "        -1.38844439, -1.42700216],\n",
       "       [-0.89013991, -0.06192218, -1.41525397, -0.48839242, -1.07417231,\n",
       "        -0.53382277, -0.44139146],\n",
       "       [-1.21424806, -0.06192218, -0.40693053,  0.05212093, -1.07417231,\n",
       "        -0.91692901, -0.44139146],\n",
       "       [ 0.40629273, -0.06192218,  0.09723119,  0.59263428, -1.07417231,\n",
       "        -0.0917771 , -0.08298757],\n",
       "       [ 0.40629273,  0.80498828,  0.09723119,  0.59263428,  0.93094934,\n",
       "         0.32079886,  0.3650173 ]])"
      ]
     },
     "execution_count": 23,
     "metadata": {},
     "output_type": "execute_result"
    }
   ],
   "source": [
    "X_train_std[:5]"
   ]
  },
  {
   "cell_type": "markdown",
   "metadata": {},
   "source": [
    "## Create and evaluate some models"
   ]
  },
  {
   "cell_type": "markdown",
   "metadata": {},
   "source": [
    "# CLASSIFICATION ALGORITHMS"
   ]
  },
  {
   "cell_type": "markdown",
   "metadata": {},
   "source": [
    "### Logistic Regression"
   ]
  },
  {
   "cell_type": "code",
   "execution_count": 24,
   "metadata": {},
   "outputs": [
    {
     "name": "stderr",
     "output_type": "stream",
     "text": [
      "C:\\Users\\r560847\\AppData\\Local\\Continuum\\anaconda3\\lib\\site-packages\\sklearn\\linear_model\\logistic.py:433: FutureWarning: Default solver will be changed to 'lbfgs' in 0.22. Specify a solver to silence this warning.\n",
      "  FutureWarning)\n"
     ]
    },
    {
     "data": {
      "text/plain": [
       "array([0, 0, 1, 1, 1, 0, 0, 0, 0, 1, 1, 1, 1, 0, 1, 0, 1, 1, 0, 0, 0, 1,\n",
       "       1, 1, 0, 0, 0, 0, 1, 0, 1, 0, 1, 1, 0, 0, 0, 0, 1, 1, 1, 0, 1, 0,\n",
       "       1, 1, 1, 1, 0, 0, 1, 0, 1, 1, 0, 1, 0, 0, 1, 1, 1, 0, 1, 0, 0, 1,\n",
       "       1, 1, 0, 1, 1, 0, 0, 0, 1, 0, 0, 0, 0, 0, 0, 1, 0, 0, 0, 0, 1, 1,\n",
       "       0, 1, 0, 0, 1, 1, 0, 0, 0, 1, 1, 1, 1, 0, 0, 0, 1, 1, 1, 0, 1, 0,\n",
       "       1, 0, 1, 0, 0, 0, 0, 1, 1, 1], dtype=int64)"
      ]
     },
     "execution_count": 24,
     "metadata": {},
     "output_type": "execute_result"
    }
   ],
   "source": [
    "# binary classifier\n",
    "from sklearn.linear_model import LogisticRegression\n",
    "\n",
    "\n",
    "log_reg = LogisticRegression()\n",
    "log_reg.fit(X_train_std, y_train)\n",
    "log_reg.predict(X_test_std)"
   ]
  },
  {
   "cell_type": "code",
   "execution_count": 25,
   "metadata": {},
   "outputs": [
    {
     "data": {
      "text/plain": [
       "0.9"
      ]
     },
     "execution_count": 25,
     "metadata": {},
     "output_type": "execute_result"
    }
   ],
   "source": [
    "log_reg.score(X_test_std, y_test)"
   ]
  },
  {
   "cell_type": "code",
   "execution_count": 26,
   "metadata": {},
   "outputs": [
    {
     "data": {
      "text/plain": [
       "array([[6.09905382e-01, 3.90094618e-01],\n",
       "       [8.26043298e-01, 1.73956702e-01],\n",
       "       [1.09731183e-01, 8.90268817e-01],\n",
       "       [1.47385307e-01, 8.52614693e-01],\n",
       "       [3.01330359e-02, 9.69866964e-01],\n",
       "       [9.32091371e-01, 6.79086288e-02],\n",
       "       [9.31548385e-01, 6.84516149e-02],\n",
       "       [9.96697291e-01, 3.30270897e-03],\n",
       "       [9.99213886e-01, 7.86113627e-04],\n",
       "       [1.92404001e-03, 9.98075960e-01],\n",
       "       [6.49629841e-02, 9.35037016e-01],\n",
       "       [2.41837745e-03, 9.97581623e-01],\n",
       "       [7.49603982e-03, 9.92503960e-01],\n",
       "       [9.11674545e-01, 8.83254547e-02],\n",
       "       [4.31178488e-01, 5.68821512e-01],\n",
       "       [8.11142137e-01, 1.88857863e-01],\n",
       "       [7.47297390e-02, 9.25270261e-01],\n",
       "       [9.50785787e-03, 9.90492142e-01],\n",
       "       [9.96922928e-01, 3.07707186e-03],\n",
       "       [8.50369795e-01, 1.49630205e-01],\n",
       "       [9.27660440e-01, 7.23395602e-02],\n",
       "       [1.87295131e-01, 8.12704869e-01],\n",
       "       [3.10006308e-02, 9.68999369e-01],\n",
       "       [4.27719221e-03, 9.95722808e-01],\n",
       "       [8.03084504e-01, 1.96915496e-01],\n",
       "       [9.85528900e-01, 1.44711000e-02],\n",
       "       [5.38438648e-01, 4.61561352e-01],\n",
       "       [6.35549986e-01, 3.64450014e-01],\n",
       "       [5.97184006e-03, 9.94028160e-01],\n",
       "       [8.70530073e-01, 1.29469927e-01],\n",
       "       [1.51922496e-03, 9.98480775e-01],\n",
       "       [9.67202947e-01, 3.27970533e-02],\n",
       "       [9.72556395e-02, 9.02744361e-01],\n",
       "       [1.65926775e-01, 8.34073225e-01],\n",
       "       [6.25272137e-01, 3.74727863e-01],\n",
       "       [9.28638538e-01, 7.13614618e-02],\n",
       "       [9.99629060e-01, 3.70939696e-04],\n",
       "       [8.87712452e-01, 1.12287548e-01],\n",
       "       [4.47005230e-03, 9.95529948e-01],\n",
       "       [4.17632501e-01, 5.82367499e-01],\n",
       "       [3.93882087e-02, 9.60611791e-01],\n",
       "       [8.44290325e-01, 1.55709675e-01],\n",
       "       [1.04509579e-02, 9.89549042e-01],\n",
       "       [9.12193743e-01, 8.78062572e-02],\n",
       "       [6.23346917e-04, 9.99376653e-01],\n",
       "       [4.81164518e-01, 5.18835482e-01],\n",
       "       [4.43857610e-01, 5.56142390e-01],\n",
       "       [4.76479638e-02, 9.52352036e-01],\n",
       "       [9.57353014e-01, 4.26469861e-02],\n",
       "       [9.06860291e-01, 9.31397094e-02],\n",
       "       [1.96844612e-01, 8.03155388e-01],\n",
       "       [9.93388743e-01, 6.61125731e-03],\n",
       "       [1.08251248e-01, 8.91748752e-01],\n",
       "       [4.50907265e-01, 5.49092735e-01],\n",
       "       [6.78777160e-01, 3.21222840e-01],\n",
       "       [6.18965314e-03, 9.93810347e-01],\n",
       "       [9.99550563e-01, 4.49436701e-04],\n",
       "       [9.97698043e-01, 2.30195706e-03],\n",
       "       [8.47878146e-02, 9.15212185e-01],\n",
       "       [1.64584397e-01, 8.35415603e-01],\n",
       "       [5.11374339e-03, 9.94886257e-01],\n",
       "       [5.02693904e-01, 4.97306096e-01],\n",
       "       [7.11625711e-03, 9.92883743e-01],\n",
       "       [6.58056881e-01, 3.41943119e-01],\n",
       "       [9.97388887e-01, 2.61111295e-03],\n",
       "       [1.72895876e-01, 8.27104124e-01],\n",
       "       [1.78042123e-02, 9.82195788e-01],\n",
       "       [3.90826494e-01, 6.09173506e-01],\n",
       "       [9.19817245e-01, 8.01827547e-02],\n",
       "       [8.44077234e-02, 9.15592277e-01],\n",
       "       [1.03496288e-01, 8.96503712e-01],\n",
       "       [9.91768833e-01, 8.23116748e-03],\n",
       "       [6.97766246e-01, 3.02233754e-01],\n",
       "       [9.75134223e-01, 2.48657769e-02],\n",
       "       [3.87391140e-02, 9.61260886e-01],\n",
       "       [9.99851252e-01, 1.48747806e-04],\n",
       "       [8.97591016e-01, 1.02408984e-01],\n",
       "       [9.59214314e-01, 4.07856857e-02],\n",
       "       [6.33901379e-01, 3.66098621e-01],\n",
       "       [9.73171745e-01, 2.68282554e-02],\n",
       "       [9.81896340e-01, 1.81036602e-02],\n",
       "       [9.94975655e-04, 9.99005024e-01],\n",
       "       [7.10129008e-01, 2.89870992e-01],\n",
       "       [8.52159857e-01, 1.47840143e-01],\n",
       "       [8.50098115e-01, 1.49901885e-01],\n",
       "       [9.37285547e-01, 6.27144533e-02],\n",
       "       [4.20617937e-01, 5.79382063e-01],\n",
       "       [8.35917832e-04, 9.99164082e-01],\n",
       "       [7.84122255e-01, 2.15877745e-01],\n",
       "       [4.72597827e-01, 5.27402173e-01],\n",
       "       [9.98009117e-01, 1.99088300e-03],\n",
       "       [9.58381925e-01, 4.16180749e-02],\n",
       "       [2.48276722e-01, 7.51723278e-01],\n",
       "       [1.00560358e-01, 8.99439642e-01],\n",
       "       [9.99236857e-01, 7.63143062e-04],\n",
       "       [9.81948542e-01, 1.80514582e-02],\n",
       "       [8.58654229e-01, 1.41345771e-01],\n",
       "       [3.36762075e-01, 6.63237925e-01],\n",
       "       [2.31464016e-02, 9.76853598e-01],\n",
       "       [2.12973689e-02, 9.78702631e-01],\n",
       "       [1.42129204e-02, 9.85787080e-01],\n",
       "       [9.99116551e-01, 8.83448549e-04],\n",
       "       [9.46390812e-01, 5.36091880e-02],\n",
       "       [9.97545927e-01, 2.45407318e-03],\n",
       "       [1.63513763e-01, 8.36486237e-01],\n",
       "       [2.76154157e-02, 9.72384584e-01],\n",
       "       [7.26954862e-02, 9.27304514e-01],\n",
       "       [9.83888021e-01, 1.61119786e-02],\n",
       "       [1.61406405e-02, 9.83859360e-01],\n",
       "       [5.94934013e-01, 4.05065987e-01],\n",
       "       [1.40105057e-01, 8.59894943e-01],\n",
       "       [9.99484854e-01, 5.15145524e-04],\n",
       "       [5.94458327e-03, 9.94055417e-01],\n",
       "       [8.17114613e-01, 1.82885387e-01],\n",
       "       [9.00844755e-01, 9.91552453e-02],\n",
       "       [9.87804286e-01, 1.21957144e-02],\n",
       "       [9.15240001e-01, 8.47599993e-02],\n",
       "       [1.33113083e-01, 8.66886917e-01],\n",
       "       [4.09666253e-01, 5.90333747e-01],\n",
       "       [1.00204120e-01, 8.99795880e-01]])"
      ]
     },
     "execution_count": 26,
     "metadata": {},
     "output_type": "execute_result"
    }
   ],
   "source": [
    "log_reg.predict_proba(X_test_std)"
   ]
  },
  {
   "cell_type": "markdown",
   "metadata": {},
   "source": [
    "### Support Vector Machine"
   ]
  },
  {
   "cell_type": "code",
   "execution_count": 27,
   "metadata": {},
   "outputs": [
    {
     "data": {
      "text/plain": [
       "0.9"
      ]
     },
     "execution_count": 27,
     "metadata": {},
     "output_type": "execute_result"
    }
   ],
   "source": [
    "from sklearn.svm import SVC\n",
    "svm = SVC()\n",
    "svm.fit(X_train_std, y_train)\n",
    "svm.score(X_test_std, y_test)"
   ]
  },
  {
   "cell_type": "markdown",
   "metadata": {},
   "source": [
    "### Decision Tree"
   ]
  },
  {
   "cell_type": "code",
   "execution_count": 28,
   "metadata": {},
   "outputs": [
    {
     "data": {
      "text/plain": [
       "0.8166666666666667"
      ]
     },
     "execution_count": 28,
     "metadata": {},
     "output_type": "execute_result"
    }
   ],
   "source": [
    "from sklearn.tree import DecisionTreeClassifier\n",
    "tree = DecisionTreeClassifier()\n",
    "tree.fit(X_train_std, y_train)\n",
    "tree.score(X_test_std, y_test)"
   ]
  },
  {
   "cell_type": "markdown",
   "metadata": {},
   "source": [
    "### K-nearest Neighbors"
   ]
  },
  {
   "cell_type": "code",
   "execution_count": 29,
   "metadata": {},
   "outputs": [
    {
     "data": {
      "text/plain": [
       "0.8666666666666667"
      ]
     },
     "execution_count": 29,
     "metadata": {},
     "output_type": "execute_result"
    }
   ],
   "source": [
    "from sklearn.neighbors import KNeighborsClassifier\n",
    "knn = KNeighborsClassifier(n_neighbors=5)\n",
    "knn.fit(X_train_std, y_train)\n",
    "knn.score(X_test_std, y_test)"
   ]
  }
 ],
 "metadata": {
  "kernelspec": {
   "display_name": "Python 3",
   "language": "python",
   "name": "python3"
  },
  "language_info": {
   "codemirror_mode": {
    "name": "ipython",
    "version": 3
   },
   "file_extension": ".py",
   "mimetype": "text/x-python",
   "name": "python",
   "nbconvert_exporter": "python",
   "pygments_lexer": "ipython3",
   "version": "3.7.1"
  }
 },
 "nbformat": 4,
 "nbformat_minor": 2
}
