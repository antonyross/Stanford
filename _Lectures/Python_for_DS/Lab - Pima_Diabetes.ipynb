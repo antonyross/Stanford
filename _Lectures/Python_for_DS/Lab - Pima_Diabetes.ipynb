{
 "cells": [
  {
   "cell_type": "markdown",
   "metadata": {},
   "source": [
    "# Lab: Pima Indian Diabetes"
   ]
  },
  {
   "cell_type": "code",
   "execution_count": null,
   "metadata": {},
   "outputs": [],
   "source": [
    "import pandas as pd"
   ]
  },
  {
   "cell_type": "code",
   "execution_count": null,
   "metadata": {},
   "outputs": [],
   "source": [
    "diab_data = pd.read_csv(\"pima_diabetes.csv\")\n",
    "diab_data.head(10)"
   ]
  },
  {
   "cell_type": "markdown",
   "metadata": {},
   "source": [
    "# Pima Indian dataset\n",
    "\n",
    "\n",
    "### Context\n",
    "This dataset is originally from the National Institute of Diabetes and Digestive and Kidney Diseases. The objective of the dataset is to diagnostically predict whether or not a patient has diabetes, based on certain diagnostic measurements included in the dataset. Several constraints were placed on the selection of these instances from a larger database. In particular, all patients here are females at least 21 years old of Pima Indian heritage.\n",
    "\n",
    "### Content\n",
    "The datasets consists of several medical predictor variables and one target variable, ‘Outcome’.  Predictor variables include the number of pregnancies the patient has had, their BMI, insulin level and age.\n",
    "\n",
    "Dataset features description:\n",
    "\n",
    "There are 9 features and 1 target (‘Outcome’) variable indicating whether the person has diabetes.\n",
    "\n",
    "\t•\tPregnancies: Number of times pregnant\n",
    "\t•\tGlucose: Plasma glucose concentration at 2 hours in an oral glucose tolerance test\n",
    "\t•\tBloodPressure: Diastolic blood pressure (mm Hg)\n",
    "\t•\tSkinThickness: Triceps skin fold thickness (mm)\n",
    "\t•\tInsulin: 2-Hour serum insulin (mu U/ml)\n",
    "\t•\tBMI: Body mass index (weight in kg/(height in m)^2)\n",
    "\t•\tDiabetesPedigreeFunction: Diabetes pedigree function\n",
    "\t•\tAge: Age (years)\n",
    "\t•\tSkin: Triceps skin fold measurement in inches\n",
    "\t•\tOutcome: Class variable (0 or 1)\n",
    "\n",
    "\n",
    "\n",
    "\n",
    "# Lab Homework\n",
    "\n",
    "**Using the Pima Indian dataset:**\n",
    "\n",
    "• Create 1 Histogram (of a single feature)\n",
    "\n",
    "• Create 1 Scatterplot (using two different features)\n",
    "\n",
    "• Create 1 Pairplot of all features (but not the target variable)\n",
    "\n",
    "• Build a machine learning model (classifier) that predicts whether or not the women in the dataset have diabetes. Use whatever skills you have so far to get the best accuracy that you can. Don't worry if your accuracy is poor.\n",
    "\n",
    "At our next meeting we will talk about the accuracy scores and discuss how different individuals approached the problem. We will then learn more advanced techniques to improve accuracy.\n"
   ]
  }
 ],
 "metadata": {
  "kernelspec": {
   "display_name": "Python 3",
   "language": "python",
   "name": "python3"
  },
  "language_info": {
   "codemirror_mode": {
    "name": "ipython",
    "version": 3
   },
   "file_extension": ".py",
   "mimetype": "text/x-python",
   "name": "python",
   "nbconvert_exporter": "python",
   "pygments_lexer": "ipython3",
   "version": "3.7.1"
  }
 },
 "nbformat": 4,
 "nbformat_minor": 2
}
