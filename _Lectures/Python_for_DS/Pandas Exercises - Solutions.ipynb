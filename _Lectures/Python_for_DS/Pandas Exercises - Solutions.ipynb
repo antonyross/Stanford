{
 "cells": [
  {
   "cell_type": "markdown",
   "metadata": {},
   "source": [
    "# Pandas Exercises - Solutions"
   ]
  },
  {
   "cell_type": "code",
   "execution_count": null,
   "metadata": {},
   "outputs": [],
   "source": [
    "import pandas as pd"
   ]
  },
  {
   "cell_type": "markdown",
   "metadata": {},
   "source": [
    "### Use the code below to get the data to use for the following problems.\n",
    "The datasets contain the most popular Baby Names and Dog Names in New York City."
   ]
  },
  {
   "cell_type": "code",
   "execution_count": null,
   "metadata": {},
   "outputs": [],
   "source": [
    "nyc_baby_names = pd.read_csv(\"Popular_NYC_Baby_Names.csv\")\n",
    "dogs_of_nyc = pd.read_csv(\"Dogs_of_NYC.csv\")"
   ]
  },
  {
   "cell_type": "markdown",
   "metadata": {},
   "source": [
    "### 1. Display the first 10 rows of each of the datasets."
   ]
  },
  {
   "cell_type": "code",
   "execution_count": null,
   "metadata": {},
   "outputs": [],
   "source": [
    "nyc_baby_names.head(10)"
   ]
  },
  {
   "cell_type": "code",
   "execution_count": null,
   "metadata": {},
   "outputs": [],
   "source": [
    "dogs_of_nyc.head(10)"
   ]
  },
  {
   "cell_type": "markdown",
   "metadata": {},
   "source": [
    "### 2. What was the most popular white female and white male name in 2014?\n",
    "Ethnicities: 'ASIAN AND PACIFIC ISLANDER', 'BLACK NON HISPANIC', 'HISPANIC',\n",
    "       'WHITE NON HISPANIC'"
   ]
  },
  {
   "cell_type": "code",
   "execution_count": null,
   "metadata": {},
   "outputs": [],
   "source": [
    "nyc_baby_names.loc[(nyc_baby_names[\"Year of Birth\"]==2014) & (nyc_baby_names[\"Rank\"]==1)  & (nyc_baby_names[\"Ethnicity\"] == \"WHITE NON HISPANIC\"), [\"Gender\", \"Child's First Name\"]]"
   ]
  },
  {
   "cell_type": "markdown",
   "metadata": {},
   "source": [
    "### 3. What were the most popular non-white Male names in 2015?"
   ]
  },
  {
   "cell_type": "code",
   "execution_count": null,
   "metadata": {},
   "outputs": [],
   "source": [
    "nyc_baby_names.loc[(nyc_baby_names[\"Year of Birth\"]==2015)& (nyc_baby_names[\"Rank\"]==1)  & (nyc_baby_names[\"Ethnicity\"].isin(['ASIAN AND PACIFIC ISLANDER', 'BLACK NON HISPANIC', 'HISPANIC'])) & (nyc_baby_names[\"Gender\"] == \"MALE\"), [\"Child's First Name\", \"Ethnicity\"]]"
   ]
  },
  {
   "cell_type": "markdown",
   "metadata": {},
   "source": [
    "### 4. What were the most popular female names in 2016?"
   ]
  },
  {
   "cell_type": "code",
   "execution_count": null,
   "metadata": {},
   "outputs": [],
   "source": [
    "nyc_baby_names.loc[(nyc_baby_names[\"Year of Birth\"]==2016)  & (nyc_baby_names[\"Gender\"] == \"FEMALE\") & (nyc_baby_names[\"Rank\"]==1) , \"Child's First Name\"].unique()"
   ]
  },
  {
   "cell_type": "markdown",
   "metadata": {},
   "source": [
    "### 5. How many dogs are in the Dogs of NY dataset?"
   ]
  },
  {
   "cell_type": "code",
   "execution_count": null,
   "metadata": {},
   "outputs": [],
   "source": [
    "dogs_of_nyc.shape[0]"
   ]
  },
  {
   "cell_type": "markdown",
   "metadata": {},
   "source": [
    "### 6. What are the 5 most popular male dog names in NY?"
   ]
  },
  {
   "cell_type": "code",
   "execution_count": null,
   "metadata": {},
   "outputs": [],
   "source": [
    "dogs_of_nyc.loc[dogs_of_nyc[\"gender\"]==\"M\", \"dog_name\"].value_counts().head()"
   ]
  },
  {
   "cell_type": "markdown",
   "metadata": {},
   "source": [
    "### 7. How many dogs in the dataset were given the popular female names from question 4 above?"
   ]
  },
  {
   "cell_type": "code",
   "execution_count": null,
   "metadata": {},
   "outputs": [],
   "source": [
    "dogs_of_nyc.loc[dogs_of_nyc[\"dog_name\"].isin([\"Olivia\", \"Ava\", \"Isabella\"]), \"dog_name\"].value_counts()"
   ]
  }
 ],
 "metadata": {
  "kernelspec": {
   "display_name": "Python 3",
   "language": "python",
   "name": "python3"
  },
  "language_info": {
   "codemirror_mode": {
    "name": "ipython",
    "version": 3
   },
   "file_extension": ".py",
   "mimetype": "text/x-python",
   "name": "python",
   "nbconvert_exporter": "python",
   "pygments_lexer": "ipython3",
   "version": "3.7.1"
  }
 },
 "nbformat": 4,
 "nbformat_minor": 2
}
