{
 "cells": [
  {
   "cell_type": "markdown",
   "metadata": {},
   "source": [
    "# Pandas Exercise"
   ]
  },
  {
   "cell_type": "code",
   "execution_count": 2,
   "metadata": {},
   "outputs": [],
   "source": [
    "import pandas as pd"
   ]
  },
  {
   "cell_type": "markdown",
   "metadata": {},
   "source": [
    "### Use the code below to get the data to use for the following problems.\n",
    "The dataset contains Neflix Original Series shows from 2013-2017."
   ]
  },
  {
   "cell_type": "code",
   "execution_count": 3,
   "metadata": {},
   "outputs": [],
   "source": [
    "df = pd.read_csv(\"Netflix_Original_Series_2013_2017.csv\")"
   ]
  },
  {
   "cell_type": "code",
   "execution_count": 4,
   "metadata": {},
   "outputs": [
    {
     "data": {
      "text/html": [
       "<div>\n",
       "<style scoped>\n",
       "    .dataframe tbody tr th:only-of-type {\n",
       "        vertical-align: middle;\n",
       "    }\n",
       "\n",
       "    .dataframe tbody tr th {\n",
       "        vertical-align: top;\n",
       "    }\n",
       "\n",
       "    .dataframe thead th {\n",
       "        text-align: right;\n",
       "    }\n",
       "</style>\n",
       "<table border=\"1\" class=\"dataframe\">\n",
       "  <thead>\n",
       "    <tr style=\"text-align: right;\">\n",
       "      <th></th>\n",
       "      <th>Major_Genre</th>\n",
       "      <th>Title</th>\n",
       "      <th>Subgenre</th>\n",
       "      <th>Premiere Date</th>\n",
       "      <th>Premiere_Year</th>\n",
       "      <th>Seasons</th>\n",
       "      <th>Status</th>\n",
       "      <th>Min_Length</th>\n",
       "      <th>Max_Length</th>\n",
       "      <th>Seasons.1</th>\n",
       "      <th>Episodes</th>\n",
       "      <th>IMDB_Rating</th>\n",
       "    </tr>\n",
       "  </thead>\n",
       "  <tbody>\n",
       "    <tr>\n",
       "      <th>0</th>\n",
       "      <td>Animation</td>\n",
       "      <td>Star Wars: The Clone Wars (season 6)</td>\n",
       "      <td>Animation</td>\n",
       "      <td>07-Mar-14</td>\n",
       "      <td>2014</td>\n",
       "      <td>1 season, 13 episodes</td>\n",
       "      <td>Ended</td>\n",
       "      <td>22</td>\n",
       "      <td>22</td>\n",
       "      <td>1</td>\n",
       "      <td>13</td>\n",
       "      <td>80</td>\n",
       "    </tr>\n",
       "    <tr>\n",
       "      <th>1</th>\n",
       "      <td>Comedy</td>\n",
       "      <td>Arrested Development (season 4)</td>\n",
       "      <td>Comedy</td>\n",
       "      <td>26-May-13</td>\n",
       "      <td>2013</td>\n",
       "      <td>1 season, 15 episodes</td>\n",
       "      <td>Renewed</td>\n",
       "      <td>28</td>\n",
       "      <td>37</td>\n",
       "      <td>1</td>\n",
       "      <td>15</td>\n",
       "      <td>89</td>\n",
       "    </tr>\n",
       "    <tr>\n",
       "      <th>2</th>\n",
       "      <td>Comedy</td>\n",
       "      <td>Russell Peters vs. the World</td>\n",
       "      <td>Docu-Series</td>\n",
       "      <td>03-Oct-13</td>\n",
       "      <td>2013</td>\n",
       "      <td>1 season, 4 episodes</td>\n",
       "      <td>Ended</td>\n",
       "      <td>26</td>\n",
       "      <td>29</td>\n",
       "      <td>1</td>\n",
       "      <td>4</td>\n",
       "      <td>60</td>\n",
       "    </tr>\n",
       "    <tr>\n",
       "      <th>3</th>\n",
       "      <td>Comedy</td>\n",
       "      <td>BoJack Horseman</td>\n",
       "      <td>Adult Animation</td>\n",
       "      <td>22-Aug-14</td>\n",
       "      <td>2014</td>\n",
       "      <td>3 seasons, 36 episodes</td>\n",
       "      <td>Renewed</td>\n",
       "      <td>25</td>\n",
       "      <td>26</td>\n",
       "      <td>3</td>\n",
       "      <td>36</td>\n",
       "      <td>84</td>\n",
       "    </tr>\n",
       "    <tr>\n",
       "      <th>4</th>\n",
       "      <td>Comedy</td>\n",
       "      <td>Trailer Park Boys (seasons 8, 9, 10 and 11)</td>\n",
       "      <td>Mockumentary</td>\n",
       "      <td>05-Sep-14</td>\n",
       "      <td>2014</td>\n",
       "      <td>4 seasons, 40 episodes</td>\n",
       "      <td>Pending</td>\n",
       "      <td>22</td>\n",
       "      <td>32</td>\n",
       "      <td>4</td>\n",
       "      <td>40</td>\n",
       "      <td>85</td>\n",
       "    </tr>\n",
       "  </tbody>\n",
       "</table>\n",
       "</div>"
      ],
      "text/plain": [
       "  Major_Genre                                        Title         Subgenre  \\\n",
       "0   Animation         Star Wars: The Clone Wars (season 6)        Animation   \n",
       "1      Comedy              Arrested Development (season 4)           Comedy   \n",
       "2      Comedy                 Russell Peters vs. the World      Docu-Series   \n",
       "3      Comedy                              BoJack Horseman  Adult Animation   \n",
       "4      Comedy  Trailer Park Boys (seasons 8, 9, 10 and 11)     Mockumentary   \n",
       "\n",
       "  Premiere Date  Premiere_Year                 Seasons   Status  Min_Length  \\\n",
       "0     07-Mar-14           2014   1 season, 13 episodes    Ended          22   \n",
       "1     26-May-13           2013   1 season, 15 episodes  Renewed          28   \n",
       "2     03-Oct-13           2013    1 season, 4 episodes    Ended          26   \n",
       "3     22-Aug-14           2014  3 seasons, 36 episodes  Renewed          25   \n",
       "4     05-Sep-14           2014  4 seasons, 40 episodes  Pending          22   \n",
       "\n",
       "   Max_Length  Seasons.1  Episodes  IMDB_Rating  \n",
       "0          22          1        13           80  \n",
       "1          37          1        15           89  \n",
       "2          29          1         4           60  \n",
       "3          26          3        36           84  \n",
       "4          32          4        40           85  "
      ]
     },
     "execution_count": 4,
     "metadata": {},
     "output_type": "execute_result"
    }
   ],
   "source": [
    "df.head()"
   ]
  },
  {
   "cell_type": "markdown",
   "metadata": {},
   "source": [
    "### 1.)  Which Netflix Original Series was the highest rated on IMdb? "
   ]
  },
  {
   "cell_type": "code",
   "execution_count": null,
   "metadata": {},
   "outputs": [],
   "source": []
  },
  {
   "cell_type": "markdown",
   "metadata": {},
   "source": [
    "### 2.)  How many of the shows had been renewed?"
   ]
  },
  {
   "cell_type": "code",
   "execution_count": null,
   "metadata": {},
   "outputs": [],
   "source": []
  },
  {
   "cell_type": "markdown",
   "metadata": {},
   "source": [
    "### 3.)  Of the shows that have ended, which produced the most episodes?"
   ]
  },
  {
   "cell_type": "code",
   "execution_count": null,
   "metadata": {},
   "outputs": [],
   "source": []
  },
  {
   "cell_type": "markdown",
   "metadata": {},
   "source": [
    "### 4.)  Were there more comedy or drama Netflix Original shows?"
   ]
  },
  {
   "cell_type": "code",
   "execution_count": null,
   "metadata": {},
   "outputs": [],
   "source": []
  },
  {
   "cell_type": "markdown",
   "metadata": {},
   "source": [
    "### 5.)  Which subgenre had the most shows with a rating of 90 or better?"
   ]
  },
  {
   "cell_type": "code",
   "execution_count": null,
   "metadata": {},
   "outputs": [],
   "source": []
  },
  {
   "cell_type": "markdown",
   "metadata": {},
   "source": [
    "### 6.)  What was the name and rating of the top-rated drama?"
   ]
  },
  {
   "cell_type": "code",
   "execution_count": null,
   "metadata": {},
   "outputs": [],
   "source": []
  }
 ],
 "metadata": {
  "kernelspec": {
   "display_name": "Python 3",
   "language": "python",
   "name": "python3"
  },
  "language_info": {
   "codemirror_mode": {
    "name": "ipython",
    "version": 3
   },
   "file_extension": ".py",
   "mimetype": "text/x-python",
   "name": "python",
   "nbconvert_exporter": "python",
   "pygments_lexer": "ipython3",
   "version": "3.7.1"
  }
 },
 "nbformat": 4,
 "nbformat_minor": 2
}
